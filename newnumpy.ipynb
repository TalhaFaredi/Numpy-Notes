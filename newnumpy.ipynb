{
 "cells": [
  {
   "cell_type": "markdown",
   "metadata": {},
   "source": [
    "#### Creating Array \n",
    "#### np.array(): Create a NumPy array from a Python list or tuple.\n",
    "#### np.zeros(): Create an array filled with zeros.\n",
    "#### np.ones(): Create an array filled with ones.\n",
    "#### np.empty(): Create an empty array.\n",
    "#### np.arange(): Create an array with a range of values.\n",
    "#### np.linspace(): Create an array with evenly spaced values."
   ]
  },
  {
   "cell_type": "code",
   "execution_count": 4,
   "metadata": {},
   "outputs": [
    {
     "name": "stdout",
     "output_type": "stream",
     "text": [
      "[[ 1  2  3  4  5]\n",
      " [ 6  7  8  9 10]]\n",
      "[1 2 3 4 5]\n"
     ]
    }
   ],
   "source": [
    "## Creating array with .array()\n",
    "import numpy as np\n",
    "a = np.array([1,2,3,4,5])\n",
    "b =np.array([[1,2,3,4,5],[6,7,8,9,10]])\n",
    "print(b)\n",
    "print(a)\n",
    "             "
   ]
  },
  {
   "cell_type": "code",
   "execution_count": 14,
   "metadata": {},
   "outputs": [
    {
     "name": "stdout",
     "output_type": "stream",
     "text": [
      "[[0. 0.]\n",
      " [0. 0.]]\n"
     ]
    }
   ],
   "source": [
    "## Creating with np.zeros\n",
    "a = np.zeros((2,2))\n",
    "print(a)"
   ]
  },
  {
   "cell_type": "code",
   "execution_count": 17,
   "metadata": {},
   "outputs": [
    {
     "name": "stdout",
     "output_type": "stream",
     "text": [
      "[[1. 1. 1. 1. 1.]\n",
      " [1. 1. 1. 1. 1.]\n",
      " [1. 1. 1. 1. 1.]\n",
      " [1. 1. 1. 1. 1.]\n",
      " [1. 1. 1. 1. 1.]]\n"
     ]
    }
   ],
   "source": [
    "## Creating Array withnp.ones\n",
    "\n",
    "a = np.ones((5,5))\n",
    "print(a)"
   ]
  },
  {
   "cell_type": "code",
   "execution_count": 23,
   "metadata": {},
   "outputs": [
    {
     "name": "stdout",
     "output_type": "stream",
     "text": [
      "[[0. 0. 0.]\n",
      " [0. 0. 0.]\n",
      " [0. 0. 0.]]\n"
     ]
    }
   ],
   "source": [
    "## Creating An Empty Array\n",
    "## Create with 0 or some garbage value\n",
    "a = np.empty((3,3))\n",
    "print(a)"
   ]
  },
  {
   "cell_type": "code",
   "execution_count": 29,
   "metadata": {},
   "outputs": [
    {
     "name": "stdout",
     "output_type": "stream",
     "text": [
      "[1 2 3 4 5]\n"
     ]
    }
   ],
   "source": [
    "## Creating Array with arange\n",
    "## Always Create 1D but you can reshape it latter\n",
    "\n",
    "a = np.arange(1,6)\n",
    "print(a)\n"
   ]
  },
  {
   "cell_type": "code",
   "execution_count": 28,
   "metadata": {},
   "outputs": [
    {
     "name": "stdout",
     "output_type": "stream",
     "text": [
      "[ 1.    3.25  5.5   7.75 10.  ]\n"
     ]
    }
   ],
   "source": [
    "import numpy as np\n",
    "\n",
    "a = np.linspace(1, 10, 5)  # Create a one-dimensional array with 5 values from 1 to 10\n",
    "\n",
    "print(a)"
   ]
  },
  {
   "cell_type": "markdown",
   "metadata": {},
   "source": [
    "\n",
    "## Array Manipulation:\n",
    "####\tnp.shape(): Get the shape (dimensions) of an array.\n",
    "####\tnp.reshape(): Reshape an array.\n",
    "####\tnp.transpose(): Transpose an array.\n",
    "####\tnp.concatenate(): Join arrays along an axis.\n",
    "####\tnp.split(): Split an array into smaller arrays.\n",
    "####\tnp.vstack() and np.hstack(): Stack arrays vertically and horizontally.\n"
   ]
  },
  {
   "cell_type": "code",
   "execution_count": 34,
   "metadata": {},
   "outputs": [
    {
     "name": "stdout",
     "output_type": "stream",
     "text": [
      "[ 1  2  3  4  5  6  7  8  9 10]\n",
      "[[ 1  2  3  4  5]\n",
      " [ 6  7  8  9 10]]\n"
     ]
    },
    {
     "data": {
      "text/plain": [
       "(2, 5)"
      ]
     },
     "execution_count": 34,
     "metadata": {},
     "output_type": "execute_result"
    }
   ],
   "source": [
    "arr = np.arange(1,11)\n",
    "brr = arr.reshape(2,5)\n",
    "print(arr)\n",
    "print(brr)\n",
    "arr.shape\n",
    "brr.shape"
   ]
  },
  {
   "cell_type": "code",
   "execution_count": 36,
   "metadata": {},
   "outputs": [
    {
     "name": "stdout",
     "output_type": "stream",
     "text": [
      "[[ 1  6]\n",
      " [ 2  7]\n",
      " [ 3  8]\n",
      " [ 4  9]\n",
      " [ 5 10]]\n"
     ]
    }
   ],
   "source": [
    "## Transpose \n",
    "new = brr.transpose()\n",
    "print(new)"
   ]
  },
  {
   "cell_type": "code",
   "execution_count": 40,
   "metadata": {},
   "outputs": [
    {
     "name": "stdout",
     "output_type": "stream",
     "text": [
      "[6 7 8 9 1 2 3 4]\n",
      "[1 2 3 4]\n",
      "[6 7 8 9]\n"
     ]
    }
   ],
   "source": [
    "## concatenates arrays b and a together, resulting in a single arra\n",
    "\n",
    "a= np.arange(1,5)\n",
    "b= np.arange(6,10)\n",
    "Result = np.concatenate((b,a))\n",
    "print(Result)\n",
    "print(a)\n",
    "print(b)"
   ]
  },
  {
   "cell_type": "code",
   "execution_count": 41,
   "metadata": {},
   "outputs": [
    {
     "name": "stdout",
     "output_type": "stream",
     "text": [
      "[[1 2 3 4]\n",
      " [6 7 8 9]]\n"
     ]
    }
   ],
   "source": [
    "##np.concatenate() combines arrays along an existing axis.\n",
    "## np.stack() stacks arrays along a new axis, creating a higher-dimensional array.\n",
    "Result = np.stack((a,b))\n",
    "print(Result)"
   ]
  },
  {
   "cell_type": "code",
   "execution_count": 47,
   "metadata": {},
   "outputs": [
    {
     "name": "stdout",
     "output_type": "stream",
     "text": [
      "[[[1 6]\n",
      "  [2 7]\n",
      "  [3 8]\n",
      "  [4 9]]] \n",
      "\n",
      "[[1 2 3 4]\n",
      " [6 7 8 9]] \n",
      "\n",
      "[1 2 3 4 6 7 8 9]\n"
     ]
    }
   ],
   "source": [
    "Result = np.dstack((a,b)) ## H staxck for 3d array \n",
    "ustack =np.vstack((a,b))  ## Align Vertically Along with Rows\n",
    "hsatck =np.hstack((a,b))  ## Along with Column \n",
    "\n",
    "print(Result ,\"\\n\")\n",
    "print(ustack ,\"\\n\")\n",
    "print(hsatck)\n"
   ]
  },
  {
   "cell_type": "code",
   "execution_count": 52,
   "metadata": {},
   "outputs": [
    {
     "name": "stdout",
     "output_type": "stream",
     "text": [
      "[1 2]\n",
      "[3 4]\n",
      "[5 6]\n",
      "[array([1, 2]), array([3, 4]), array([5, 6])]\n"
     ]
    }
   ],
   "source": [
    "arr = np.array([1, 2, 3, 4, 5, 6])\n",
    "result = np.split(arr, 3) ## it will devide into to sub array\n",
    "for i in result:\n",
    "    print (i)\n",
    "\n",
    "print(result)"
   ]
  },
  {
   "cell_type": "markdown",
   "metadata": {},
   "source": [
    "## Mathematical Operations:\n",
    "\n",
    "#### np.add(), np.subtract(), np.multiply(), np.divide(): Element-wise arithmetic operations.\n",
    "#### np.dot(): Matrix multiplication.\n",
    "#### np.sum(), np.mean(), np.median(), np.std(): Statistical operations.\n",
    "#### np.min(), np.max(): Find minimum and maximum values.\n",
    "#### np.exp(), np.log(), np.sqrt(): Exponential, logarithmic, and square root functions"
   ]
  },
  {
   "cell_type": "code",
   "execution_count": 68,
   "metadata": {},
   "outputs": [
    {
     "name": "stdout",
     "output_type": "stream",
     "text": [
      "[77 79 81 83 85] \n",
      "\n",
      "[-65 -65 -65 -65 -65] \n",
      "\n"
     ]
    }
   ],
   "source": [
    "a = np.arange(71,76)\n",
    "b= np.arange(6,11)\n",
    "# zerto =np.zeros((5,))\n",
    "\n",
    "Result = np.add(a,b)\n",
    "Result2 = np.subtract(b,a)\n",
    "print(Result,'\\n')\n",
    "print(Result2,'\\n')"
   ]
  },
  {
   "cell_type": "code",
   "execution_count": 70,
   "metadata": {},
   "outputs": [
    {
     "name": "stdout",
     "output_type": "stream",
     "text": [
      "[426 504 584 666 750] \n",
      "\n",
      "[11.83333333 10.28571429  9.125       8.22222222  7.5       ]\n"
     ]
    }
   ],
   "source": [
    "Result3 = np.multiply(a,b)\n",
    "Result4 = np.divide(a,b)\n",
    "print(Result3,'\\n')\n",
    "print(Result4)"
   ]
  },
  {
   "cell_type": "code",
   "execution_count": 78,
   "metadata": {},
   "outputs": [
    {
     "name": "stdout",
     "output_type": "stream",
     "text": [
      "[[ 64  70]\n",
      " [154 169]]\n"
     ]
    }
   ],
   "source": [
    "## In order to perform matrix multiplication, the number of columns in the first matrix \n",
    "## should be equal to the number of rows in the second matrix.\n",
    "aa = np.array([[1, 2, 3], [4, 5, 6]])\n",
    "bb = np.array([[8, 9], [10, 11], [12, 13]])\n",
    "\n",
    "Result5 = np.dot(aa, bb)\n",
    "\n",
    "print(Result5)"
   ]
  },
  {
   "cell_type": "code",
   "execution_count": 83,
   "metadata": {},
   "outputs": [
    {
     "name": "stdout",
     "output_type": "stream",
     "text": [
      "[2.44948974 2.64575131 2.82842712 3.         3.16227766]\n",
      "75\n",
      "73.0\n",
      "73.0\n",
      "71\n"
     ]
    }
   ],
   "source": [
    "## Mean Medium\n",
    "## For Min Max Value\n",
    "\n",
    "new = np.mean(a)\n",
    "new2 = np.median(a)\n",
    "new3 = np.min(a)\n",
    "new4 = np.max(a)\n",
    "new5 = np.sqrt(b)\n",
    "print(new5)\n",
    "print(new4)\n",
    "print(new2)\n",
    "print(new)\n",
    "print(new3)"
   ]
  },
  {
   "cell_type": "markdown",
   "metadata": {},
   "source": [
    "\n",
    "## Random Number Generation:\n",
    "\n",
    "#### np.random.rand(): Generate random numbers from a uniform distribution.\n",
    "#### np.random.randn(): Generate random numbers from a standard normal distribution.\n",
    "#### np.random.randint(): Generate random integers.\n",
    "#### np.random.choice(): Randomly choose elements from an array.## "
   ]
  },
  {
   "cell_type": "code",
   "execution_count": 87,
   "metadata": {},
   "outputs": [
    {
     "name": "stdout",
     "output_type": "stream",
     "text": [
      "[[0.48303264 0.90845979 0.85938613]\n",
      " [0.03686083 0.75942649 0.62248591]]\n",
      "[1 0 1]\n"
     ]
    }
   ],
   "source": [
    "import numpy as np\n",
    "\n",
    "# Generate a 2x3 array of random numbers between 0 and 1\n",
    "random_array = np.random.random((2, 3))\n",
    "\n",
    "r =np.random.randint((2,9,4))  ## 4 random between 2 and 9\n",
    "print(random_array)\n",
    "print(r)"
   ]
  },
  {
   "cell_type": "code",
   "execution_count": 91,
   "metadata": {},
   "outputs": [
    {
     "name": "stdout",
     "output_type": "stream",
     "text": [
      "[[-0.49606589  0.03839101  0.64208292 -2.22529114  0.78190926 -1.69852003]\n",
      " [ 0.54594203  0.34087813  0.77895212 -0.11882999  1.56353362  0.73401284]]\n"
     ]
    }
   ],
   "source": [
    "a =np.random.rand(2,5)\n",
    "b= np.random.randn(2,6)\n",
    "print(b)"
   ]
  },
  {
   "cell_type": "markdown",
   "metadata": {},
   "source": [
    "The random.choice function in NumPy is used to randomly select elements from an array or a list. It takes the array or list as the first argument and the number of elements to be selected as the second argument"
   ]
  },
  {
   "cell_type": "code",
   "execution_count": 94,
   "metadata": {},
   "outputs": [
    {
     "name": "stdout",
     "output_type": "stream",
     "text": [
      "[7 8 2 6]\n"
     ]
    }
   ],
   "source": [
    "a=np.arange(1,9)\n",
    "b = np.random.choice(a,size=4)\n",
    "print(b)"
   ]
  },
  {
   "cell_type": "markdown",
   "metadata": {},
   "source": [
    "File I/O:\n",
    "\n",
    "np.save(): Save an array to a binary file.\n",
    "np.load(): Load an array from a binary file.\n",
    "np.savetxt(): Save an array to a text file.\n",
    "np.loadtxt(): Load an array from a text file"
   ]
  },
  {
   "cell_type": "code",
   "execution_count": null,
   "metadata": {},
   "outputs": [],
   "source": []
  },
  {
   "cell_type": "markdown",
   "metadata": {},
   "source": [
    "### rray Aggregation:\n",
    "\n",
    "### np.unique(): Find unique elements in an array.\n",
    "### np.sort(): Sort elements in an array.\n",
    "### np.argsort(): Get the indices that would sort an array.\n",
    "### np.bincount(): Count occurrences of each value in an array of non-negative integers."
   ]
  },
  {
   "cell_type": "markdown",
   "metadata": {},
   "source": []
  }
 ],
 "metadata": {
  "kernelspec": {
   "display_name": "base",
   "language": "python",
   "name": "python3"
  },
  "language_info": {
   "codemirror_mode": {
    "name": "ipython",
    "version": 3
   },
   "file_extension": ".py",
   "mimetype": "text/x-python",
   "name": "python",
   "nbconvert_exporter": "python",
   "pygments_lexer": "ipython3",
   "version": "3.10.9"
  },
  "orig_nbformat": 4
 },
 "nbformat": 4,
 "nbformat_minor": 2
}
